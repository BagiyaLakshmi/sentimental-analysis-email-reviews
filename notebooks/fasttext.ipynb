{
 "cells": [
  {
   "cell_type": "code",
   "execution_count": 2,
   "id": "c4f0031d-4e22-4567-a6fc-b4a965d20e7d",
   "metadata": {},
   "outputs": [],
   "source": [
    "import pandas as pd"
   ]
  },
  {
   "cell_type": "code",
   "execution_count": 3,
   "id": "6aa99021-16dd-4230-80db-1abbac65cf4c",
   "metadata": {},
   "outputs": [],
   "source": [
    "data = pd.read_json('datasets/yelp_academic_dataset_tip.json',  lines=True)"
   ]
  },
  {
   "cell_type": "code",
   "execution_count": 4,
   "id": "98b625ec-d000-4e2a-8189-e5f2945c73ed",
   "metadata": {},
   "outputs": [],
   "source": [
    "import fasttext\n"
   ]
  },
  {
   "cell_type": "code",
   "execution_count": 3,
   "id": "5eac1311-1ca7-4374-9996-8cf75c10183a",
   "metadata": {},
   "outputs": [
    {
     "name": "stdout",
     "output_type": "stream",
     "text": [
      "Collecting fasttext\n",
      "  Downloading fasttext-0.9.2.tar.gz (68 kB)\n",
      "\u001b[2K     \u001b[38;2;114;156;31m━━━━━━━━━━━━━━━━━━━━━━━━━━━━━━━━━━━━━━━\u001b[0m \u001b[32m68.8/68.8 kB\u001b[0m \u001b[31m442.7 kB/s\u001b[0m eta \u001b[36m0:00:00\u001b[0m31m47.5 MB/s\u001b[0m eta \u001b[36m0:00:01\u001b[0m\n",
      "\u001b[?25h  Preparing metadata (setup.py) ... \u001b[?25ldone\n",
      "\u001b[?25hCollecting pybind11>=2.2\n",
      "  Using cached pybind11-2.10.4-py3-none-any.whl (222 kB)\n",
      "Requirement already satisfied: setuptools>=0.7.0 in /home/baghiya/miniconda3/envs/py393/lib/python3.9/site-packages (from fasttext) (67.6.1)\n",
      "Requirement already satisfied: numpy in /home/baghiya/miniconda3/envs/py393/lib/python3.9/site-packages (from fasttext) (1.24.1)\n",
      "Building wheels for collected packages: fasttext\n",
      "  Building wheel for fasttext (setup.py) ... \u001b[?25ldone\n",
      "\u001b[?25h  Created wheel for fasttext: filename=fasttext-0.9.2-cp39-cp39-linux_x86_64.whl size=310714 sha256=40b154f6cf21be7ebb51f8a05ad6176ffe98270f65209a7f5ac4e7cca1337fc9\n",
      "  Stored in directory: /home/baghiya/.cache/pip/wheels/64/57/bc/1741406019061d5664914b070bd3e71f6244648732bc96109e\n",
      "Successfully built fasttext\n",
      "Installing collected packages: pybind11, fasttext\n",
      "Successfully installed fasttext-0.9.2 pybind11-2.10.4\n",
      "\n",
      "\u001b[1m[\u001b[0m\u001b[34;49mnotice\u001b[0m\u001b[1;39;49m]\u001b[0m\u001b[39;49m A new release of pip is available: \u001b[0m\u001b[31;49m23.0.1\u001b[0m\u001b[39;49m -> \u001b[0m\u001b[32;49m23.1.2\u001b[0m\n",
      "\u001b[1m[\u001b[0m\u001b[34;49mnotice\u001b[0m\u001b[1;39;49m]\u001b[0m\u001b[39;49m To update, run: \u001b[0m\u001b[32;49mpip install --upgrade pip\u001b[0m\n"
     ]
    }
   ],
   "source": [
    "!pip install fasttext"
   ]
  },
  {
   "cell_type": "code",
   "execution_count": 5,
   "id": "5bb39989-3534-469a-85ba-f65dab68faed",
   "metadata": {},
   "outputs": [],
   "source": [
    "data['text'].to_csv('reviews.txt', index=False, header=False)"
   ]
  },
  {
   "cell_type": "code",
   "execution_count": 6,
   "id": "b900a563-3b26-4607-8e08-15bb0a932676",
   "metadata": {},
   "outputs": [
    {
     "name": "stderr",
     "output_type": "stream",
     "text": [
      "Read 11M words\n",
      "Number of words:  386848\n",
      "Number of labels: 0\n",
      "Progress: 100.0% words/sec/thread: 4518055 lr:  0.000000 avg.loss:      -nan ETA:   0h 0m 0s\n"
     ]
    }
   ],
   "source": [
    "model = fasttext.train_supervised('reviews.txt', label_prefix=\"__label__\")\n"
   ]
  },
  {
   "cell_type": "code",
   "execution_count": null,
   "id": "f7989891-311b-4155-a221-0444252a0d8a",
   "metadata": {},
   "outputs": [],
   "source": [
    "data['Sentiment'] = data['text'].apply(lambda x: model.predict(x)[0][0].split(\"__label__\")[1])\n"
   ]
  },
  {
   "cell_type": "code",
   "execution_count": null,
   "id": "26909ecf-2bd7-4100-9723-3ed607b4ea14",
   "metadata": {},
   "outputs": [],
   "source": []
  }
 ],
 "metadata": {
  "kernelspec": {
   "display_name": "Python 3 (ipykernel)",
   "language": "python",
   "name": "python3"
  },
  "language_info": {
   "codemirror_mode": {
    "name": "ipython",
    "version": 3
   },
   "file_extension": ".py",
   "mimetype": "text/x-python",
   "name": "python",
   "nbconvert_exporter": "python",
   "pygments_lexer": "ipython3",
   "version": "3.8.16"
  }
 },
 "nbformat": 4,
 "nbformat_minor": 5
}
